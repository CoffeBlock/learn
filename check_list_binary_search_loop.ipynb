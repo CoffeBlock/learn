{
 "cells": [
  {
   "cell_type": "code",
   "execution_count": 1,
   "id": "9b572404-39fc-4f50-80fc-f5704a5e2a4d",
   "metadata": {
    "tags": []
   },
   "outputs": [],
   "source": [
    "listofnumbers = [3, 7, 10, 12, 17, 20, 25, 32, 48, 69, 85, 93]"
   ]
  },
  {
   "cell_type": "code",
   "execution_count": 15,
   "id": "09a30d6d-b210-42a1-8714-4fe51894a8b6",
   "metadata": {
    "tags": []
   },
   "outputs": [],
   "source": [
    "def binarySearch(l, n, left, right):\n",
    "    mid = (left + right) // 2\n",
    "    while left < right:\n",
    "        mid = (left + right) // 2\n",
    "        if n == l[mid]:\n",
    "            return f\"index[{mid}]\"\n",
    "        elif n < l[mid]:\n",
    "            right = mid\n",
    "        elif n > l[mid]:\n",
    "            left = mid\n",
    "        "
   ]
  },
  {
   "cell_type": "code",
   "execution_count": 12,
   "id": "f910e8d6-a42e-49fa-9f88-0d0a7a3d1738",
   "metadata": {
    "tags": []
   },
   "outputs": [],
   "source": [
    "def checklist(l, n, left, right):\n",
    "    mid = (left + right) // 2 \n",
    "    if left == right:\n",
    "        return \"-1\"\n",
    "    else:\n",
    "        if n == l[mid]:\n",
    "            return f\"index[{mid}]\"\n",
    "        elif n < l[mid]:\n",
    "            return checklist(l, n, left, mid)\n",
    "        elif n > l[mid]:\n",
    "            return checklist(l, n, mid, left)"
   ]
  },
  {
   "cell_type": "code",
   "execution_count": 24,
   "id": "3a7d22fb-5b77-4983-aaa4-ff7e8c37304a",
   "metadata": {
    "tags": []
   },
   "outputs": [],
   "source": [
    "found = binarySearch(listofnumbers, 48, 0, 11)"
   ]
  },
  {
   "cell_type": "code",
   "execution_count": 25,
   "id": "a8e54be0-f2eb-44c2-8c45-8215c8cecd4e",
   "metadata": {
    "tags": []
   },
   "outputs": [
    {
     "name": "stdout",
     "output_type": "stream",
     "text": [
      "index[8]\n"
     ]
    }
   ],
   "source": [
    "print(found)"
   ]
  },
  {
   "cell_type": "code",
   "execution_count": null,
   "id": "59cfc8c1-65ce-4754-9d5f-f02d3eef65a0",
   "metadata": {},
   "outputs": [],
   "source": []
  }
 ],
 "metadata": {
  "kernelspec": {
   "display_name": "py_312:Python",
   "language": "python",
   "name": "conda-env-py_312-py"
  },
  "language_info": {
   "codemirror_mode": {
    "name": "ipython",
    "version": 3
   },
   "file_extension": ".py",
   "mimetype": "text/x-python",
   "name": "python",
   "nbconvert_exporter": "python",
   "pygments_lexer": "ipython3",
   "version": "3.12.2"
  }
 },
 "nbformat": 4,
 "nbformat_minor": 5
}
