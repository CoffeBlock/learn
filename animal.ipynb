{
 "cells": [
  {
   "cell_type": "code",
   "execution_count": 1,
   "id": "3c860379-dcd3-457a-a2a1-e633e79484c4",
   "metadata": {
    "tags": []
   },
   "outputs": [],
   "source": [
    "animal = [\"Crocodile\", \"Spider\", \"Chicken\", \"dog\", \"monkey\" ]"
   ]
  },
  {
   "cell_type": "code",
   "execution_count": 2,
   "id": "be858e68-c335-4bad-88e8-fc4d317f10fa",
   "metadata": {
    "tags": []
   },
   "outputs": [],
   "source": [
    "animal_swim = [\"Crocodile\",\"dog\", \"monkey\" ]"
   ]
  },
  {
   "cell_type": "code",
   "execution_count": 3,
   "id": "b091cb5d-e987-472c-8f5c-7b15acba2dc4",
   "metadata": {
    "tags": []
   },
   "outputs": [],
   "source": [
    "water = True"
   ]
  },
  {
   "cell_type": "code",
   "execution_count": 4,
   "id": "dd49030f-6ebd-43b3-b77f-29b08c337382",
   "metadata": {
    "tags": []
   },
   "outputs": [],
   "source": [
    "if water == True:\n",
    "    animal_alive = animal_swim"
   ]
  },
  {
   "cell_type": "code",
   "execution_count": 5,
   "id": "126f5130-05f2-4f5f-a15a-1da235011ad2",
   "metadata": {
    "tags": []
   },
   "outputs": [
    {
     "name": "stdout",
     "output_type": "stream",
     "text": [
      "['Crocodile', 'dog', 'monkey']\n"
     ]
    }
   ],
   "source": [
    "print(animal_alive)"
   ]
  },
  {
   "cell_type": "code",
   "execution_count": null,
   "id": "0e869b4c-8d7a-483e-be42-86c10ac1820f",
   "metadata": {},
   "outputs": [],
   "source": []
  }
 ],
 "metadata": {
  "kernelspec": {
   "display_name": "py_312:Python",
   "language": "python",
   "name": "conda-env-py_312-py"
  },
  "language_info": {
   "codemirror_mode": {
    "name": "ipython",
    "version": 3
   },
   "file_extension": ".py",
   "mimetype": "text/x-python",
   "name": "python",
   "nbconvert_exporter": "python",
   "pygments_lexer": "ipython3",
   "version": "3.12.2"
  }
 },
 "nbformat": 4,
 "nbformat_minor": 5
}
