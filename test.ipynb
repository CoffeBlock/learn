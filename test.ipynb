{
 "cells": [
  {
   "cell_type": "code",
   "execution_count": null,
   "id": "34f63970-d2cd-4d11-bf7f-a4d102723c00",
   "metadata": {},
   "outputs": [],
   "source": [
    "class Animal:\n",
    "    def __init__(self, name, can_swim, food, reproduction):\n",
    "        self.name = name\n",
    "        self.can_swim = can_swim\n",
    "        self.food = food\n",
    "        self.reproduction = reproduction\n"
   ]
  }
 ],
 "metadata": {
  "kernelspec": {
   "display_name": "py_312:Python",
   "language": "python",
   "name": "conda-env-py_312-py"
  },
  "language_info": {
   "codemirror_mode": {
    "name": "ipython",
    "version": 3
   },
   "file_extension": ".py",
   "mimetype": "text/x-python",
   "name": "python",
   "nbconvert_exporter": "python",
   "pygments_lexer": "ipython3",
   "version": "3.12.2"
  }
 },
 "nbformat": 4,
 "nbformat_minor": 5
}
