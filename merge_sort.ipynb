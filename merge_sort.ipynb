{
 "cells": [
  {
   "cell_type": "code",
   "execution_count": null,
   "id": "6631d2ae-b506-4607-8710-50d6b565f0be",
   "metadata": {
    "tags": []
   },
   "outputs": [],
   "source": [
    "def merge(data, left, middle, right):\n",
    "    i1 = left\n",
    "    i2 = middle\n",
    "    final = [0] * (right - left)\n",
    "    index = 0\n",
    "    while i1 < middle and i2 < right:\n",
    "        if data[i1] < data[i2]:\n",
    "            final[index] =data [i1]\n",
    "            i1 += 1\n",
    "            index += 1\n",
    "        else:\n",
    "            final[index] =data [i2]\n",
    "            i2 += 1\n",
    "            index += 1\n",
    "            \n",
    "\n",
    "    while not i2 == right:\n",
    "        final[index] = data[i2]\n",
    "        index += 1\n",
    "        i2 += 1\n",
    "    while not i1 == middle:\n",
    "        final[index] = data[i1]\n",
    "        index += 1\n",
    "        i1 += 1\n",
    "    \n",
    "    for i in range(len(final)):\n",
    "        data[left + i] = final[i]"
   ]
  },
  {
   "cell_type": "code",
   "execution_count": null,
   "id": "941b2a92-1c2a-4166-b008-a4e5d69fe1dd",
   "metadata": {
    "tags": []
   },
   "outputs": [],
   "source": [
    "def merge_sort(data, left, right):\n",
    "    if (right - left) <= 1:\n",
    "        return\n",
    "    middle = (left + right)//2\n",
    "    merge_sort(data, left, middle)\n",
    "    merge_sort(data, middle, right)\n",
    "    merge(data, left, middle, right)"
   ]
  },
  {
   "cell_type": "code",
   "execution_count": null,
   "id": "6eb72b56-7063-4422-9a2c-f1a8a893059a",
   "metadata": {
    "tags": []
   },
   "outputs": [],
   "source": [
    "l1 = [4, 3, 10, 6, 8, 15, 1, 2]"
   ]
  },
  {
   "cell_type": "code",
   "execution_count": null,
   "id": "b8fef163-2907-4976-a1b9-067f41359a8d",
   "metadata": {
    "tags": []
   },
   "outputs": [],
   "source": [
    "merge(l1, 0, len(l1)//2, len(l1))\n",
    "print(l1)"
   ]
  },
  {
   "cell_type": "code",
   "execution_count": null,
   "id": "5f440476-dc77-447e-ae3e-9543a40b3e2d",
   "metadata": {
    "tags": []
   },
   "outputs": [],
   "source": [
    "merge_sort(l1, 0, len(l1))\n",
    "print(l1)"
   ]
  },
  {
   "cell_type": "code",
   "execution_count": null,
   "id": "a196a00e-b404-4569-ad24-af39880b1a9c",
   "metadata": {},
   "outputs": [],
   "source": []
  }
 ],
 "metadata": {
  "kernelspec": {
   "display_name": "py_312:Python",
   "language": "python",
   "name": "conda-env-py_312-py"
  },
  "language_info": {
   "codemirror_mode": {
    "name": "ipython",
    "version": 3
   },
   "file_extension": ".py",
   "mimetype": "text/x-python",
   "name": "python",
   "nbconvert_exporter": "python",
   "pygments_lexer": "ipython3",
   "version": "3.12.2"
  }
 },
 "nbformat": 4,
 "nbformat_minor": 5
}
