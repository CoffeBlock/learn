{
 "cells": [
  {
   "cell_type": "code",
   "execution_count": 1,
   "id": "90afd788-b65c-4612-a90a-bdfa454846ab",
   "metadata": {
    "tags": []
   },
   "outputs": [],
   "source": [
    "class Animal:\n",
    "    def __init__(self, name):\n",
    "        self._name = name\n",
    "    def setswim(self, swim):\n",
    "        self._swim = swim\n",
    "    def getswim(self):\n",
    "        return self._swim\n",
    "    def canswim(self):\n",
    "        if self._swim == \"swim\":\n",
    "            return True\n",
    "        else:\n",
    "            return False"
   ]
  },
  {
   "cell_type": "code",
   "execution_count": 2,
   "id": "435a05bc-1cb3-4fbe-a5f5-dcc562b40a0e",
   "metadata": {
    "tags": []
   },
   "outputs": [],
   "source": [
    "class Dog(Animal):\n",
    "    def __init__(self):\n",
    "        super.__init__(\"dog\")\n",
    "        super.setswim(\"swim\")\n",
    "    def canswim(self):\n",
    "        return False\n",
    "    def __str__(self):\n",
    "        return \"I am a \" + self._name + \" and I can \" + self._swim"
   ]
  },
  {
   "cell_type": "code",
   "execution_count": 3,
   "id": "7e64f209-b721-4269-aa10-477442a2a57c",
   "metadata": {
    "tags": []
   },
   "outputs": [],
   "source": [
    "class Chicken(Animal):\n",
    "    def __init__(self):\n",
    "        super.__init__(\"chicken\")\n",
    "        super.setswim(\"not swim\")\n",
    "    def canswim(self):\n",
    "        return True\n",
    "    def __str__(self):\n",
    "        return \"I am a \" + self._name + \" and I can \" + self._swim"
   ]
  },
  {
   "cell_type": "code",
   "execution_count": 4,
   "id": "8f0b060f-7b49-47e8-835b-bbd4b6ce8047",
   "metadata": {
    "tags": []
   },
   "outputs": [
    {
     "ename": "TypeError",
     "evalue": "descriptor '__init__' requires a 'super' object but received a 'Dog'",
     "output_type": "error",
     "traceback": [
      "\u001b[0;31m---------------------------------------------------------------------------\u001b[0m",
      "\u001b[0;31mTypeError\u001b[0m                                 Traceback (most recent call last)",
      "Cell \u001b[0;32mIn[4], line 1\u001b[0m\n\u001b[0;32m----> 1\u001b[0m animal \u001b[38;5;241m=\u001b[39m [\u001b[43mDog\u001b[49m\u001b[43m(\u001b[49m\u001b[43m)\u001b[49m, Chicken()]\n\u001b[1;32m      3\u001b[0m \u001b[38;5;28;01mfor\u001b[39;00m i \u001b[38;5;129;01min\u001b[39;00m animal:\n\u001b[1;32m      4\u001b[0m     \u001b[38;5;28mprint\u001b[39m(i\u001b[38;5;241m.\u001b[39mcanswim())\n",
      "Cell \u001b[0;32mIn[2], line 3\u001b[0m, in \u001b[0;36mDog.__init__\u001b[0;34m(self)\u001b[0m\n\u001b[1;32m      2\u001b[0m \u001b[38;5;28;01mdef\u001b[39;00m \u001b[38;5;21m__init__\u001b[39m(\u001b[38;5;28mself\u001b[39m):\n\u001b[0;32m----> 3\u001b[0m     \u001b[38;5;28;43msuper\u001b[39;49m\u001b[38;5;241;43m.\u001b[39;49m\u001b[38;5;21;43m__init__\u001b[39;49m\u001b[43m(\u001b[49m\u001b[38;5;28;43mself\u001b[39;49m\u001b[43m,\u001b[49m\u001b[43m \u001b[49m\u001b[38;5;124;43m\"\u001b[39;49m\u001b[38;5;124;43mdog\u001b[39;49m\u001b[38;5;124;43m\"\u001b[39;49m\u001b[43m)\u001b[49m\n\u001b[1;32m      4\u001b[0m     \u001b[38;5;28msuper\u001b[39m\u001b[38;5;241m.\u001b[39msetswim(\u001b[38;5;28mself\u001b[39m, \u001b[38;5;124m\"\u001b[39m\u001b[38;5;124mswim\u001b[39m\u001b[38;5;124m\"\u001b[39m)\n",
      "\u001b[0;31mTypeError\u001b[0m: descriptor '__init__' requires a 'super' object but received a 'Dog'"
     ]
    }
   ],
   "source": [
    "animal = [Dog(), Chicken()]\n",
    "\n",
    "for i in animal:\n",
    "    print(i.canswim())\n"
   ]
  },
  {
   "cell_type": "code",
   "execution_count": null,
   "id": "75e80b48-c5ce-4d2e-9c88-6e4c1066b2d5",
   "metadata": {},
   "outputs": [],
   "source": []
  }
 ],
 "metadata": {
  "kernelspec": {
   "display_name": "py_312:Python",
   "language": "python",
   "name": "conda-env-py_312-py"
  },
  "language_info": {
   "codemirror_mode": {
    "name": "ipython",
    "version": 3
   },
   "file_extension": ".py",
   "mimetype": "text/x-python",
   "name": "python",
   "nbconvert_exporter": "python",
   "pygments_lexer": "ipython3",
   "version": "3.12.2"
  }
 },
 "nbformat": 4,
 "nbformat_minor": 5
}
