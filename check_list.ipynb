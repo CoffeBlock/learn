{
 "cells": [
  {
   "cell_type": "code",
   "execution_count": 4,
   "id": "6ed81622-1148-467c-a7d8-29a4b43f19d6",
   "metadata": {
    "tags": []
   },
   "outputs": [],
   "source": [
    "listofnumbers = [3, 7, 10, 12, 17, 20, 25, 32, 48, 69, 85, 93]"
   ]
  },
  {
   "cell_type": "code",
   "execution_count": 20,
   "id": "0e50ecc8-fe72-42f9-b6b0-05b807823865",
   "metadata": {
    "tags": []
   },
   "outputs": [],
   "source": [
    "def checklist(l, n, left, right):\n",
    "    mid = (left + right) // 2 \n",
    "    if left == right:\n",
    "        return \"-1\"\n",
    "    else:\n",
    "        if n == l[mid]:\n",
    "            return f\"index[{mid}]\"\n",
    "        elif n < l[mid]:\n",
    "            return checklist(l, n, left, mid)\n",
    "        elif n > l[mid]:\n",
    "            return checklist(l, n, mid, left)\n"
   ]
  },
  {
   "cell_type": "code",
   "execution_count": 21,
   "id": "90638794-a425-47a7-a25e-eb3cb4188597",
   "metadata": {
    "tags": []
   },
   "outputs": [
    {
     "name": "stdout",
     "output_type": "stream",
     "text": [
      "-1\n"
     ]
    }
   ],
   "source": [
    "print(checklist(listofnumbers, 48, 0, 11))"
   ]
  },
  {
   "cell_type": "code",
   "execution_count": null,
   "id": "cc3e8cc7-0a59-42bc-820c-5be5dc8f034e",
   "metadata": {},
   "outputs": [],
   "source": []
  }
 ],
 "metadata": {
  "kernelspec": {
   "display_name": "py_312:Python",
   "language": "python",
   "name": "conda-env-py_312-py"
  },
  "language_info": {
   "codemirror_mode": {
    "name": "ipython",
    "version": 3
   },
   "file_extension": ".py",
   "mimetype": "text/x-python",
   "name": "python",
   "nbconvert_exporter": "python",
   "pygments_lexer": "ipython3",
   "version": "3.12.2"
  }
 },
 "nbformat": 4,
 "nbformat_minor": 5
}
