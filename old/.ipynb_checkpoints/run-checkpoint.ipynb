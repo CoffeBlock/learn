{
 "cells": [
  {
   "cell_type": "code",
   "execution_count": null,
   "id": "cc105a39-6a7d-469d-95c9-e1203bdeda33",
   "metadata": {
    "tags": []
   },
   "outputs": [],
   "source": [
    "!python text.py"
   ]
  },
  {
   "cell_type": "code",
   "execution_count": null,
   "id": "0aa30ef2-7d37-464e-a7ab-61b49349f388",
   "metadata": {
    "tags": []
   },
   "outputs": [],
   "source": [
    "!python sorting.py"
   ]
  },
  {
   "cell_type": "code",
   "execution_count": null,
   "id": "6234b788-4295-431f-8a0d-82ff59014971",
   "metadata": {
    "tags": []
   },
   "outputs": [],
   "source": [
    "!python merge.py"
   ]
  },
  {
   "cell_type": "code",
   "execution_count": null,
   "id": "40686daf-3fc1-4dd5-accf-c678e5be5822",
   "metadata": {
    "tags": []
   },
   "outputs": [],
   "source": [
    "!python marge_list.py"
   ]
  },
  {
   "cell_type": "code",
   "execution_count": null,
   "id": "3f2f5761-7a97-4718-bec2-a1d27e507c6b",
   "metadata": {
    "tags": []
   },
   "outputs": [],
   "source": [
    "!python factorial.py"
   ]
  }
 ],
 "metadata": {
  "kernelspec": {
   "display_name": "py_312:Python",
   "language": "python",
   "name": "conda-env-py_312-py"
  },
  "language_info": {
   "codemirror_mode": {
    "name": "ipython",
    "version": 3
   },
   "file_extension": ".py",
   "mimetype": "text/x-python",
   "name": "python",
   "nbconvert_exporter": "python",
   "pygments_lexer": "ipython3",
   "version": "3.12.2"
  }
 },
 "nbformat": 4,
 "nbformat_minor": 5
}
