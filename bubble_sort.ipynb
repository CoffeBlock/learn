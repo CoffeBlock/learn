{
 "cells": [
  {
   "cell_type": "code",
   "execution_count": null,
   "id": "86460b15-01bd-4883-ab14-3c1c3c262c0e",
   "metadata": {
    "tags": []
   },
   "outputs": [],
   "source": [
    "list = [1, 10, 3, 6, 4, 9, 14]"
   ]
  },
  {
   "cell_type": "code",
   "execution_count": null,
   "id": "0ad86c22-6ff0-42ed-8e13-f45b50e053f6",
   "metadata": {
    "tags": []
   },
   "outputs": [],
   "source": [
    "def bubblesort(l):\n",
    "    maxterms = len(l)\n",
    "    terms = 1\n",
    "    repeat = 0\n",
    "    while not repeat == len(l) - 1:\n",
    "        while not terms == maxterms:\n",
    "            if l[terms] < l[terms - 1]:\n",
    "                x = l[terms - 1]\n",
    "                l[terms - 1] = l[terms]\n",
    "                l[terms] = x\n",
    "            terms += 1\n",
    "        repeat += 1\n",
    "    return l"
   ]
  },
  {
   "cell_type": "code",
   "execution_count": null,
   "id": "7dbab324-78b9-495b-8cd6-d97b78cf414a",
   "metadata": {
    "tags": []
   },
   "outputs": [],
   "source": [
    "print(bubblesort(list))\n"
   ]
  }
 ],
 "metadata": {
  "kernelspec": {
   "display_name": "py_312:Python",
   "language": "python",
   "name": "conda-env-py_312-py"
  },
  "language_info": {
   "codemirror_mode": {
    "name": "ipython",
    "version": 3
   },
   "file_extension": ".py",
   "mimetype": "text/x-python",
   "name": "python",
   "nbconvert_exporter": "python",
   "pygments_lexer": "ipython3",
   "version": "3.12.2"
  }
 },
 "nbformat": 4,
 "nbformat_minor": 5
}
